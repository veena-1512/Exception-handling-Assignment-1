{
 "cells": [
  {
   "cell_type": "markdown",
   "id": "cb6cbac4-82de-4118-80d8-f435cbc7c042",
   "metadata": {},
   "source": [
    "Q1. What is an Exception in python? Write the difference between Exceptions\n",
    "and syntax errors."
   ]
  },
  {
   "cell_type": "markdown",
   "id": "f1dfae04-9511-45e2-8e2b-c924ee747ca8",
   "metadata": {},
   "source": [
    "An error is an issue in a program that prevents the program from completing its task. In comparison, an exception is a condition that interrupts the normal flow of the program. Both errors and exceptions are a type of runtime error, which means they occur during the execution of a program."
   ]
  },
  {
   "cell_type": "markdown",
   "id": "cae92df1-845d-4ecb-badd-7615e77541ce",
   "metadata": {},
   "source": [
    "Q2. What happens if an exception is not handled? Explain with an example?"
   ]
  },
  {
   "cell_type": "markdown",
   "id": "9ee5a0a3-17c8-498c-bf50-20a15fffc87c",
   "metadata": {},
   "source": [
    "When an exception occurred, if you don’t handle it, the program terminates abruptly and the code past the line that caused the exception will not get executed. \n",
    "\n",
    "Generally, when you compile a program, if it gets compiled without a .class file will be created, this is the executable file , and every time you execute this .class file it is supposed to run successfully executing each line in the program without any issues. But, in some exceptional cases, while executing the program, file encounters some ambiguous scenarios where it doesn’t know what to do.\n",
    "\n",
    "Example:-\n",
    "\n",
    "1. If you have an array of size 10 if a line in your code tries to access the 11th element in this array.\n",
    "\n",
    "2. If you are trying to divide a number with 0 which (results to infinity and file doesn’t understand how to valuate it\n"
   ]
  },
  {
   "cell_type": "markdown",
   "id": "2b25b9ba-863e-40f3-bedc-5859ae243d03",
   "metadata": {},
   "source": [
    "Q3. Which Python statements are used to catch and handle exceptions? Explain with an example?"
   ]
  },
  {
   "cell_type": "markdown",
   "id": "9d0fbc3c-b01c-4da5-a269-4165ca4fd53a",
   "metadata": {},
   "source": [
    "The try and except block in Python is used to catch and handle exceptions. Python executes code following the try statement as a “normal” part of the program. The code that follows the except statement is the program’s response to any exceptions in the preceding try clause."
   ]
  },
  {
   "cell_type": "markdown",
   "id": "8e63a9f1-cf19-4527-bd11-c72b0a451164",
   "metadata": {},
   "source": [
    "Q4. Explain with an example:\n",
    "# try and else\n",
    "# finally\n",
    "# raise"
   ]
  },
  {
   "cell_type": "markdown",
   "id": "eae07cdc-ec66-44f9-9fc1-a1b1f8fd758a",
   "metadata": {},
   "source": [
    "Exception handling with try, except, else, and finally\n",
    "\n",
    "Try: This block will test the excepted error to occur.\n",
    "\n",
    "Except:  Here you can handle the error.\n",
    "\n",
    "Else: If there is no exception then this block will be executed.\n",
    "\n",
    "Finally: Finally block always gets executed either exception is generated or not.\n",
    "\n",
    "Raise:- The raise keyword raises an error and stops the control flow of the program. It is used to bring up the current exception in an exception handler so that it can be handled further up the call stack.\n",
    "\n"
   ]
  },
  {
   "cell_type": "markdown",
   "id": "fd405ec7-0fd5-48e9-bb97-9abe290cbd9e",
   "metadata": {},
   "source": [
    "Q5. What are Custom Exceptions in python? Why do we need Custom Exceptions? Explain with an example."
   ]
  },
  {
   "cell_type": "markdown",
   "id": "658af08b-88d8-4680-9169-f3f6151ae57d",
   "metadata": {},
   "source": [
    "Built-in exceptions offer information about Python-related problems, and custom exceptions will add information about project-related problems. That way, you can design your code (and traceback, if an exception is raised) in a way that combines Python code with the language of the project.\n",
    "\n",
    "Example 1: User-Defined class with Multiple Inheritance.\n",
    "Example 2: Deriving Error from Super Class Exception\n"
   ]
  },
  {
   "cell_type": "markdown",
   "id": "5939344b-8f46-4348-92bf-3041b7223b20",
   "metadata": {},
   "source": [
    "Q6. Create a custom exception class. Use this ,class to handle an exception."
   ]
  },
  {
   "cell_type": "code",
   "execution_count": null,
   "id": "4ef1ab03-e8b9-43a5-b6f7-fec5407d013b",
   "metadata": {},
   "outputs": [],
   "source": []
  }
 ],
 "metadata": {
  "kernelspec": {
   "display_name": "Python 3 (ipykernel)",
   "language": "python",
   "name": "python3"
  },
  "language_info": {
   "codemirror_mode": {
    "name": "ipython",
    "version": 3
   },
   "file_extension": ".py",
   "mimetype": "text/x-python",
   "name": "python",
   "nbconvert_exporter": "python",
   "pygments_lexer": "ipython3",
   "version": "3.10.8"
  }
 },
 "nbformat": 4,
 "nbformat_minor": 5
}
